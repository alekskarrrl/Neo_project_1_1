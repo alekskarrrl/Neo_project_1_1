{
 "cells": [
  {
   "cell_type": "markdown",
   "id": "0952dfba",
   "metadata": {},
   "source": [
    "# Project 2.1"
   ]
  },
  {
   "cell_type": "markdown",
   "id": "82c4c850",
   "metadata": {},
   "source": [
    "### Task 1\n",
    "\n",
    "1. Сгенерировать DataFrame из трёх колонок (row_id, discipline, season) - олимпийские дисциплины по сезонам.  \n",
    "•\trow_id - число порядкового номера строки;  \n",
    "•\tdiscipline - наименование олимпиский дисциплины на английском (полностью маленькими буквами);  \n",
    "•\tseason - сезон дисциплины (summer / winter);  \n",
    "*Укажите не мнее чем по 5 дисциплин для каждого сезона.  \n",
    "Сохраните DataFrame в csv-файл, разделитель колонок табуляция, первая строка должна содержать название колонок.  \n",
    "Данные должны быть сохранены в виде 1 csv-файла а не множества маленьких.\n"
   ]
  },
  {
   "cell_type": "code",
   "execution_count": 1,
   "id": "f4cd8e7d",
   "metadata": {},
   "outputs": [],
   "source": [
    "import findspark\n",
    "findspark.init('/opt/hadoop/spark')"
   ]
  },
  {
   "cell_type": "code",
   "execution_count": 2,
   "id": "0707d726",
   "metadata": {},
   "outputs": [],
   "source": [
    "import pyspark\n",
    "from pyspark.sql import SparkSession\n",
    "from pyspark.sql.functions import lower, broadcast"
   ]
  },
  {
   "cell_type": "code",
   "execution_count": 3,
   "id": "b1642dbd",
   "metadata": {},
   "outputs": [
    {
     "name": "stderr",
     "output_type": "stream",
     "text": [
      "/opt/hadoop/spark/python/pyspark/context.py:317: FutureWarning: Python 3.7 support is deprecated in Spark 3.4.\n",
      "  warnings.warn(\"Python 3.7 support is deprecated in Spark 3.4.\", FutureWarning)\n"
     ]
    }
   ],
   "source": [
    "spark = (SparkSession\n",
    " .builder\n",
    " .appName('project_2_1')\n",
    " .enableHiveSupport()\n",
    " .getOrCreate())"
   ]
  },
  {
   "cell_type": "code",
   "execution_count": 4,
   "id": "e24f917b",
   "metadata": {},
   "outputs": [],
   "source": [
    "schema = \"row_id BIGINT, discipline STRING, season STRING\""
   ]
  },
  {
   "cell_type": "code",
   "execution_count": 5,
   "id": "ce16d244",
   "metadata": {},
   "outputs": [],
   "source": [
    "rows = [\n",
    "(1,\"skateboarding\", \"summer\"),(2,\"figure skating\", \"winter\"),\n",
    "(3,\"swimming\", \"summer\"), (4,\"ski jumping\", \"winter\"),\n",
    "(5,\"surfing\", \"summer\"), (6,\"snowboard\", \"winter\"),\n",
    "(7,\"golf\", \"summer\"), (8,\"ski mountaineering\", \"winter\"),\n",
    "(9,\"athletics\", \"summer\"), (10,\"biathlon\", \"winter\"),\n",
    "(11,\"badminton\", \"summer\"), (12,\"bobsleigh\", \"winter\"),\n",
    "(13,\"boxing\", \"summer\"), (14,\"cross-country skiing\", \"winter\"),\n",
    "(15,\"triathlon\", \"summer\"), (16,\"speed skating\", \"winter\")\n",
    "]"
   ]
  },
  {
   "cell_type": "code",
   "execution_count": 6,
   "id": "ba5eefa6",
   "metadata": {},
   "outputs": [
    {
     "name": "stdout",
     "output_type": "stream",
     "text": [
      "+------+--------------------+------+\n",
      "|row_id|          discipline|season|\n",
      "+------+--------------------+------+\n",
      "|     1|       skateboarding|summer|\n",
      "|     2|      figure skating|winter|\n",
      "|     3|            swimming|summer|\n",
      "|     4|         ski jumping|winter|\n",
      "|     5|             surfing|summer|\n",
      "|     6|           snowboard|winter|\n",
      "|     7|                golf|summer|\n",
      "|     8|  ski mountaineering|winter|\n",
      "|     9|           athletics|summer|\n",
      "|    10|            biathlon|winter|\n",
      "|    11|           badminton|summer|\n",
      "|    12|           bobsleigh|winter|\n",
      "|    13|              boxing|summer|\n",
      "|    14|cross-country skiing|winter|\n",
      "|    15|           triathlon|summer|\n",
      "|    16|       speed skating|winter|\n",
      "+------+--------------------+------+\n",
      "\n"
     ]
    }
   ],
   "source": [
    "olympicDF = spark.createDataFrame(rows, schema)\n",
    "olympicDF.show()"
   ]
  },
  {
   "cell_type": "code",
   "execution_count": 9,
   "id": "34fe5dcd",
   "metadata": {},
   "outputs": [],
   "source": [
    "olympicDF.repartition(1).write.mode(\"overwrite\").csv('file:///opt/notebooks/olympic_sports.csv', header=True, sep='\\t')"
   ]
  },
  {
   "cell_type": "markdown",
   "id": "bad67dd8",
   "metadata": {},
   "source": [
    "### Task 2\n",
    "\n",
    "2. Прочитайте исходный файл \"Athletes.csv\".  \n",
    "\n",
    "Посчитайте в разрезе дисциплин сколько всего спортсменов в каждой из дисциплин принимало участие.  \n",
    "Результат сохраните в формате parquet.  \n"
   ]
  },
  {
   "cell_type": "code",
   "execution_count": 10,
   "id": "8c9399d7",
   "metadata": {},
   "outputs": [],
   "source": [
    "athletesDF = spark.read.csv('file:///opt/notebooks/Athletes.csv', header=True, sep=';')"
   ]
  },
  {
   "cell_type": "code",
   "execution_count": 13,
   "id": "64ff53d5",
   "metadata": {},
   "outputs": [
    {
     "name": "stdout",
     "output_type": "stream",
     "text": [
      "+-----------------------+------------------------+-------------------+\n",
      "|Name                   |NOC                     |Discipline         |\n",
      "+-----------------------+------------------------+-------------------+\n",
      "|AALERUD Katrine        |Norway                  |Cycling Road       |\n",
      "|ABAD Nestor            |Spain                   |Artistic Gymnastics|\n",
      "|ABAGNALE Giovanni      |Italy                   |Rowing             |\n",
      "|ABALDE Alberto         |Spain                   |Basketball         |\n",
      "|ABALDE Tamara          |Spain                   |Basketball         |\n",
      "|ABALO Luc              |France                  |Handball           |\n",
      "|ABAROA Cesar           |Chile                   |Rowing             |\n",
      "|ABASS Abobakr          |Sudan                   |Swimming           |\n",
      "|ABBASALI Hamideh       |Islamic Republic of Iran|Karate             |\n",
      "|ABBASOV Islam          |Azerbaijan              |Wrestling          |\n",
      "|ABBINGH Lois           |Netherlands             |Handball           |\n",
      "|ABBOT Emily            |Australia               |Rhythmic Gymnastics|\n",
      "|ABBOTT Monica          |United States of America|Baseball/Softball  |\n",
      "|ABDALLA Abubaker Haydar|Qatar                   |Athletics          |\n",
      "|ABDALLA Maryam         |Egypt                   |Artistic Swimming  |\n",
      "|ABDALLAH Shahd         |Egypt                   |Artistic Swimming  |\n",
      "|ABDALRASOOL Mohamed    |Sudan                   |Judo               |\n",
      "|ABDEL LATIF Radwa      |Egypt                   |Shooting           |\n",
      "|ABDEL RAZEK Samy       |Egypt                   |Shooting           |\n",
      "|ABDELAZIZ Abdalla      |Egypt                   |Karate             |\n",
      "+-----------------------+------------------------+-------------------+\n",
      "only showing top 20 rows\n",
      "\n"
     ]
    }
   ],
   "source": [
    "athletesDF.show(truncate=False)"
   ]
  },
  {
   "cell_type": "code",
   "execution_count": 14,
   "id": "525a4bea",
   "metadata": {},
   "outputs": [
    {
     "name": "stdout",
     "output_type": "stream",
     "text": [
      "+---------------------+-----+\n",
      "|Discipline           |count|\n",
      "+---------------------+-----+\n",
      "|Tennis               |178  |\n",
      "|Boxing               |270  |\n",
      "|Marathon Swimming    |49   |\n",
      "|Golf                 |115  |\n",
      "|Rowing               |496  |\n",
      "|Baseball/Softball    |220  |\n",
      "|Judo                 |373  |\n",
      "|Sailing              |336  |\n",
      "|Swimming             |743  |\n",
      "|Cycling BMX Freestyle|19   |\n",
      "+---------------------+-----+\n",
      "only showing top 10 rows\n",
      "\n"
     ]
    }
   ],
   "source": [
    "athletes_countDF = athletesDF.groupBy(\"Discipline\").count()\n",
    "athletes_countDF.show(10, truncate=False)"
   ]
  },
  {
   "cell_type": "code",
   "execution_count": 15,
   "id": "6790f112",
   "metadata": {},
   "outputs": [
    {
     "data": {
      "text/plain": [
       "47"
      ]
     },
     "execution_count": 15,
     "metadata": {},
     "output_type": "execute_result"
    }
   ],
   "source": [
    "athletes_countDF.count()"
   ]
  },
  {
   "cell_type": "code",
   "execution_count": 16,
   "id": "df9d7d3b",
   "metadata": {},
   "outputs": [],
   "source": [
    "athletes_countDF.write.mode(\"overwrite\").parquet('file:///opt/notebooks/athletes_count.parquet')"
   ]
  },
  {
   "cell_type": "code",
   "execution_count": 17,
   "id": "b9460bda",
   "metadata": {
    "scrolled": true
   },
   "outputs": [
    {
     "name": "stdout",
     "output_type": "stream",
     "text": [
      "+---------------------+-----+\n",
      "|Discipline           |count|\n",
      "+---------------------+-----+\n",
      "|Tennis               |178  |\n",
      "|Boxing               |270  |\n",
      "|Marathon Swimming    |49   |\n",
      "|Golf                 |115  |\n",
      "|Rowing               |496  |\n",
      "|Baseball/Softball    |220  |\n",
      "|Judo                 |373  |\n",
      "|Sailing              |336  |\n",
      "|Swimming             |743  |\n",
      "|Cycling BMX Freestyle|19   |\n",
      "|Basketball           |280  |\n",
      "|Handball             |343  |\n",
      "|Rhythmic Gymnastics  |95   |\n",
      "|null                 |1    |\n",
      "|Karate               |77   |\n",
      "|Triathlon            |106  |\n",
      "|Badminton            |164  |\n",
      "|Canoe Sprint         |236  |\n",
      "|Athletics            |2068 |\n",
      "|Cycling Track        |208  |\n",
      "|Beach Volleyball     |90   |\n",
      "|Skateboarding        |77   |\n",
      "|Equestrian           |237  |\n",
      "|Shooting             |342  |\n",
      "|Diving               |133  |\n",
      "|Canoe Slalom         |78   |\n",
      "|Rugby Sevens         |283  |\n",
      "|Artistic Gymnastics  |187  |\n",
      "|Cycling Mountain Bike|74   |\n",
      "|3x3 Basketball       |62   |\n",
      "|Cycling Road         |190  |\n",
      "|Wrestling            |279  |\n",
      "|Table Tennis         |164  |\n",
      "|Taekwondo            |123  |\n",
      "|Water Polo           |269  |\n",
      "|Weightlifting        |187  |\n",
      "|Surfing              |37   |\n",
      "|Sport Climbing       |37   |\n",
      "|Cycling BMX Racing   |43   |\n",
      "|Trampoline Gymnastics|31   |\n",
      "|Modern Pentathlon    |69   |\n",
      "|Volleyball           |274  |\n",
      "|Archery              |122  |\n",
      "|Artistic Swimming    |98   |\n",
      "|Fencing              |249  |\n",
      "|Hockey               |406  |\n",
      "|Football             |567  |\n",
      "+---------------------+-----+\n",
      "\n"
     ]
    }
   ],
   "source": [
    "testDF = spark.read.parquet('file:///opt/notebooks/athletes_count.parquet')\n",
    "testDF.show(100, truncate=False)"
   ]
  },
  {
   "cell_type": "markdown",
   "id": "861adbe6",
   "metadata": {},
   "source": [
    "### Task 3\n",
    "\n",
    "3. Прочитайте исходный файл \"Athletes.csv\".  \n",
    "\n",
    "Посчитайте в разрезе дисциплин сколько всего спортсменов в каждой из дисциплин принимало участие.  \n",
    "Получившийся результат нужно объединить с сгенерированным вами DataFrame из 1-го задания и в итоге вывести количество участников, только по тем дисциплинам, что есть в вашем сгенерированном DataFrame.  \n",
    "Результат сохраните в формате parquet.\n"
   ]
  },
  {
   "cell_type": "code",
   "execution_count": 18,
   "id": "4986da92",
   "metadata": {},
   "outputs": [
    {
     "name": "stdout",
     "output_type": "stream",
     "text": [
      "+-----------------------+------------------------+-------------------+\n",
      "|Name                   |NOC                     |Discipline         |\n",
      "+-----------------------+------------------------+-------------------+\n",
      "|AALERUD Katrine        |Norway                  |Cycling Road       |\n",
      "|ABAD Nestor            |Spain                   |Artistic Gymnastics|\n",
      "|ABAGNALE Giovanni      |Italy                   |Rowing             |\n",
      "|ABALDE Alberto         |Spain                   |Basketball         |\n",
      "|ABALDE Tamara          |Spain                   |Basketball         |\n",
      "|ABALO Luc              |France                  |Handball           |\n",
      "|ABAROA Cesar           |Chile                   |Rowing             |\n",
      "|ABASS Abobakr          |Sudan                   |Swimming           |\n",
      "|ABBASALI Hamideh       |Islamic Republic of Iran|Karate             |\n",
      "|ABBASOV Islam          |Azerbaijan              |Wrestling          |\n",
      "|ABBINGH Lois           |Netherlands             |Handball           |\n",
      "|ABBOT Emily            |Australia               |Rhythmic Gymnastics|\n",
      "|ABBOTT Monica          |United States of America|Baseball/Softball  |\n",
      "|ABDALLA Abubaker Haydar|Qatar                   |Athletics          |\n",
      "|ABDALLA Maryam         |Egypt                   |Artistic Swimming  |\n",
      "|ABDALLAH Shahd         |Egypt                   |Artistic Swimming  |\n",
      "|ABDALRASOOL Mohamed    |Sudan                   |Judo               |\n",
      "|ABDEL LATIF Radwa      |Egypt                   |Shooting           |\n",
      "|ABDEL RAZEK Samy       |Egypt                   |Shooting           |\n",
      "|ABDELAZIZ Abdalla      |Egypt                   |Karate             |\n",
      "+-----------------------+------------------------+-------------------+\n",
      "only showing top 20 rows\n",
      "\n"
     ]
    }
   ],
   "source": [
    "athletesDF.show(truncate=False)"
   ]
  },
  {
   "cell_type": "code",
   "execution_count": 19,
   "id": "fa7bc021",
   "metadata": {},
   "outputs": [
    {
     "data": {
      "text/plain": [
       "11085"
      ]
     },
     "execution_count": 19,
     "metadata": {},
     "output_type": "execute_result"
    }
   ],
   "source": [
    "athletesDF.count()"
   ]
  },
  {
   "cell_type": "code",
   "execution_count": 20,
   "id": "640f2485",
   "metadata": {},
   "outputs": [
    {
     "name": "stdout",
     "output_type": "stream",
     "text": [
      "+---------------------+-----+\n",
      "|Discipline           |count|\n",
      "+---------------------+-----+\n",
      "|Tennis               |178  |\n",
      "|Boxing               |270  |\n",
      "|Marathon Swimming    |49   |\n",
      "|Golf                 |115  |\n",
      "|Rowing               |496  |\n",
      "|Baseball/Softball    |220  |\n",
      "|Judo                 |373  |\n",
      "|Sailing              |336  |\n",
      "|Swimming             |743  |\n",
      "|Cycling BMX Freestyle|19   |\n",
      "+---------------------+-----+\n",
      "only showing top 10 rows\n",
      "\n"
     ]
    }
   ],
   "source": [
    "athletes_countDF.show(10, truncate=False)"
   ]
  },
  {
   "cell_type": "code",
   "execution_count": 21,
   "id": "6b585ea8",
   "metadata": {},
   "outputs": [
    {
     "name": "stdout",
     "output_type": "stream",
     "text": [
      "+------+--------------------+------+\n",
      "|row_id|discipline          |season|\n",
      "+------+--------------------+------+\n",
      "|1     |skateboarding       |summer|\n",
      "|2     |figure skating      |winter|\n",
      "|3     |swimming            |summer|\n",
      "|4     |ski jumping         |winter|\n",
      "|5     |surfing             |summer|\n",
      "|6     |snowboard           |winter|\n",
      "|7     |golf                |summer|\n",
      "|8     |ski mountaineering  |winter|\n",
      "|9     |athletics           |summer|\n",
      "|10    |biathlon            |winter|\n",
      "|11    |badminton           |summer|\n",
      "|12    |bobsleigh           |winter|\n",
      "|13    |boxing              |summer|\n",
      "|14    |cross-country skiing|winter|\n",
      "|15    |triathlon           |summer|\n",
      "|16    |speed skating       |winter|\n",
      "+------+--------------------+------+\n",
      "\n"
     ]
    }
   ],
   "source": [
    "olympicDF.show(100, truncate=False)"
   ]
  },
  {
   "cell_type": "code",
   "execution_count": 22,
   "id": "dfe42348",
   "metadata": {},
   "outputs": [
    {
     "data": {
      "text/plain": [
       "16"
      ]
     },
     "execution_count": 22,
     "metadata": {},
     "output_type": "execute_result"
    }
   ],
   "source": [
    "olympicDF.count()"
   ]
  },
  {
   "cell_type": "code",
   "execution_count": 23,
   "id": "7e71c75e",
   "metadata": {},
   "outputs": [],
   "source": [
    "athletes_count_joinedDF = olympicDF.join(athletes_countDF, olympicDF.discipline==lower(athletes_countDF.Discipline), how='left').select(olympicDF.discipline, 'count')"
   ]
  },
  {
   "cell_type": "code",
   "execution_count": 24,
   "id": "77a319f7",
   "metadata": {},
   "outputs": [
    {
     "name": "stdout",
     "output_type": "stream",
     "text": [
      "+--------------------+-----+\n",
      "|          discipline|count|\n",
      "+--------------------+-----+\n",
      "|       skateboarding|   77|\n",
      "|      figure skating| null|\n",
      "|            swimming|  743|\n",
      "|         ski jumping| null|\n",
      "|             surfing|   37|\n",
      "|           snowboard| null|\n",
      "|                golf|  115|\n",
      "|  ski mountaineering| null|\n",
      "|           athletics| 2068|\n",
      "|            biathlon| null|\n",
      "|           badminton|  164|\n",
      "|           bobsleigh| null|\n",
      "|              boxing|  270|\n",
      "|cross-country skiing| null|\n",
      "|           triathlon|  106|\n",
      "|       speed skating| null|\n",
      "+--------------------+-----+\n",
      "\n"
     ]
    }
   ],
   "source": [
    "athletes_count_joinedDF.show()"
   ]
  },
  {
   "cell_type": "code",
   "execution_count": 25,
   "id": "2e6fd03f",
   "metadata": {},
   "outputs": [],
   "source": [
    "athletes_count_joinedDF.repartition(1).write.mode(\"overwrite\").parquet('file:///opt/notebooks/athletes_count_joined.parquet') "
   ]
  },
  {
   "cell_type": "code",
   "execution_count": null,
   "id": "7d35cc36",
   "metadata": {},
   "outputs": [],
   "source": []
  },
  {
   "cell_type": "code",
   "execution_count": null,
   "id": "11f157a0",
   "metadata": {},
   "outputs": [],
   "source": []
  },
  {
   "cell_type": "code",
   "execution_count": null,
   "id": "9014a772",
   "metadata": {},
   "outputs": [],
   "source": []
  },
  {
   "cell_type": "code",
   "execution_count": null,
   "id": "4e01e909",
   "metadata": {},
   "outputs": [],
   "source": []
  },
  {
   "cell_type": "code",
   "execution_count": null,
   "id": "42f64c3e",
   "metadata": {},
   "outputs": [],
   "source": []
  },
  {
   "cell_type": "code",
   "execution_count": null,
   "id": "cbe0937b",
   "metadata": {},
   "outputs": [],
   "source": []
  },
  {
   "cell_type": "code",
   "execution_count": null,
   "id": "ca956e9a",
   "metadata": {},
   "outputs": [],
   "source": []
  },
  {
   "cell_type": "code",
   "execution_count": null,
   "id": "c28fb871",
   "metadata": {},
   "outputs": [],
   "source": []
  },
  {
   "cell_type": "code",
   "execution_count": null,
   "id": "e10bee56",
   "metadata": {},
   "outputs": [],
   "source": []
  },
  {
   "cell_type": "code",
   "execution_count": null,
   "id": "a3231a78",
   "metadata": {},
   "outputs": [],
   "source": []
  },
  {
   "cell_type": "code",
   "execution_count": null,
   "id": "dc7a9659",
   "metadata": {},
   "outputs": [],
   "source": []
  }
 ],
 "metadata": {
  "celltoolbar": "Raw Cell Format",
  "kernelspec": {
   "display_name": "Python 3",
   "language": "python",
   "name": "python3"
  },
  "language_info": {
   "codemirror_mode": {
    "name": "ipython",
    "version": 3
   },
   "file_extension": ".py",
   "mimetype": "text/x-python",
   "name": "python",
   "nbconvert_exporter": "python",
   "pygments_lexer": "ipython3",
   "version": "3.6.8"
  }
 },
 "nbformat": 4,
 "nbformat_minor": 5
}
